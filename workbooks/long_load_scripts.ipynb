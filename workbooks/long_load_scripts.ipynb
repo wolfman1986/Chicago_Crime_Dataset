{
 "cells": [
  {
   "cell_type": "code",
   "execution_count": null,
   "metadata": {},
   "outputs": [],
   "source": [
    "import matplotlib.pyplot as plt\n",
    "from tabulate import tabulate\n",
    "import pandas as pd\n",
    "import seaborn as sns\n",
    "import numpy as np\n",
    "import matplotlib.ticker as ticker\n",
    "import locale\n",
    "import sys\n",
    "sys.path.insert(0,'../src')\n",
    "import file_import\n",
    "from pickle import load\n",
    "from datetime import date"
   ]
  },
  {
   "cell_type": "code",
   "execution_count": null,
   "metadata": {},
   "outputs": [],
   "source": [
    "crime_df = pd.read_pickle('../data/pickled_df.pkl')"
   ]
  },
  {
   "cell_type": "code",
   "execution_count": null,
   "metadata": {},
   "outputs": [],
   "source": [
    "# Filter the DataFrame to include only rows where \"Primary Type\" is \"THEFT\"\n",
    "filtered_theft_df = crime_df[crime_df['Primary Type'] == 'THEFT']\n",
    "\n",
    "# Convert the \"Date\" column to pandas datetime format\n",
    "filtered_theft_df['Date'] = pd.to_datetime(filtered_theft_df['Date'])\n",
    "\n",
    "# Drop rows with missing \"Date\" values\n",
    "filtered_theft_df.dropna(subset=['Date'], inplace=True)\n",
    "\n",
    "# Take a random sample of 10,000 rows from the filtered DataFrame\n",
    "sample_size = 10000\n",
    "sampled_theft_df = filtered_theft_df.sample(n=sample_size, random_state=42)\n",
    "\n",
    "# Calculate the mean hour and minute separately for the sampled DataFrame\n",
    "average_hour = sampled_theft_df['Date'].dt.hour.mean()\n",
    "average_minute = sampled_theft_df['Date'].dt.minute.mean()\n",
    "\n",
    "# Round the mean values to integers for the average hour and minute\n",
    "average_hour = int(round(average_hour))\n",
    "average_minute = int(round(average_minute))\n",
    "\n",
    "# Print the result\n",
    "print(\"Average time of day for 'THEFT' occurrences in the sampled data:\", f\"{average_hour:02d}:{average_minute:02d}\")"
   ]
  },
  {
   "cell_type": "code",
   "execution_count": null,
   "metadata": {},
   "outputs": [],
   "source": [
    "# Convert the 'Date' column to datetime data type\n",
    "crime_df['Date'] = pd.to_datetime(crime_df['Date'])\n",
    "\n",
    "# Extract the 'Year' from the 'Date' column and add it as a separate column\n",
    "crime_df['Year'] = crime_df['Date'].dt.year\n",
    "\n",
    "# Get the count of occurrences for each unique value in 'Primary Type'\n",
    "primary_type_counts = crime_df['Primary Type'].value_counts()\n",
    "\n",
    "# Get the top 10 most frequent values\n",
    "top_10_primary_types = primary_type_counts.nlargest(10)\n",
    "\n",
    "# Print the total value count of each unique value in 'Primary Type'\n",
    "print(\"Top 10 Crimes:\")\n",
    "print(top_10_primary_types)\n",
    "\n",
    "# Create a table that shows a year-by-year count of each crime\n",
    "crime_counts_by_year = crime_df.groupby(['Year', 'Primary Type']).size().unstack(fill_value=0)\n",
    "\n",
    "# Print the table\n",
    "print(\"\\nYear-by-Year Count of Each Crime:\")\n",
    "print(crime_counts_by_year)"
   ]
  }
 ],
 "metadata": {
  "language_info": {
   "name": "python"
  },
  "orig_nbformat": 4
 },
 "nbformat": 4,
 "nbformat_minor": 2
}
