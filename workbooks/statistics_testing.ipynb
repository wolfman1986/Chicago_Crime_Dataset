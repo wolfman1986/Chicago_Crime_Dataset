{
 "cells": [
  {
   "cell_type": "markdown",
   "metadata": {},
   "source": [
    "##### STATISTICS TESTING"
   ]
  },
  {
   "cell_type": "code",
   "execution_count": 89,
   "metadata": {},
   "outputs": [],
   "source": [
    "import matplotlib.pyplot as plt\n",
    "from itertools import combinations\n",
    "from tabulate import tabulate\n",
    "from scipy.stats import ttest_ind\n",
    "import random\n",
    "import pandas as pd\n",
    "import seaborn as sns\n",
    "import numpy as np\n",
    "import matplotlib.ticker as ticker\n",
    "import locale\n",
    "import sys\n",
    "import file_import\n",
    "from pickle import load\n",
    "from datetime import date\n",
    "from scipy import stats"
   ]
  },
  {
   "cell_type": "code",
   "execution_count": 90,
   "metadata": {},
   "outputs": [],
   "source": [
    "crime_df = pd.read_pickle('../data/pickled_df.pkl')"
   ]
  },
  {
   "cell_type": "code",
   "execution_count": 91,
   "metadata": {},
   "outputs": [
    {
     "data": {
      "text/html": [
       "<div>\n",
       "<style scoped>\n",
       "    .dataframe tbody tr th:only-of-type {\n",
       "        vertical-align: middle;\n",
       "    }\n",
       "\n",
       "    .dataframe tbody tr th {\n",
       "        vertical-align: top;\n",
       "    }\n",
       "\n",
       "    .dataframe thead th {\n",
       "        text-align: right;\n",
       "    }\n",
       "</style>\n",
       "<table border=\"1\" class=\"dataframe\">\n",
       "  <thead>\n",
       "    <tr style=\"text-align: right;\">\n",
       "      <th></th>\n",
       "      <th>ID</th>\n",
       "      <th>Case Number</th>\n",
       "      <th>Date</th>\n",
       "      <th>Block</th>\n",
       "      <th>IUCR</th>\n",
       "      <th>Primary Type</th>\n",
       "      <th>Description</th>\n",
       "      <th>Location Description</th>\n",
       "      <th>Arrest</th>\n",
       "      <th>Domestic</th>\n",
       "      <th>...</th>\n",
       "      <th>Ward</th>\n",
       "      <th>Community Area</th>\n",
       "      <th>FBI Code</th>\n",
       "      <th>X Coordinate</th>\n",
       "      <th>Y Coordinate</th>\n",
       "      <th>Year</th>\n",
       "      <th>Updated On</th>\n",
       "      <th>Latitude</th>\n",
       "      <th>Longitude</th>\n",
       "      <th>Location</th>\n",
       "    </tr>\n",
       "  </thead>\n",
       "  <tbody>\n",
       "    <tr>\n",
       "      <th>0</th>\n",
       "      <td>11646166</td>\n",
       "      <td>JC213529</td>\n",
       "      <td>09/01/2018 12:01:00 AM</td>\n",
       "      <td>082XX S INGLESIDE AVE</td>\n",
       "      <td>0810</td>\n",
       "      <td>THEFT</td>\n",
       "      <td>OVER $500</td>\n",
       "      <td>RESIDENCE</td>\n",
       "      <td>False</td>\n",
       "      <td>True</td>\n",
       "      <td>...</td>\n",
       "      <td>8.0</td>\n",
       "      <td>44.0</td>\n",
       "      <td>06</td>\n",
       "      <td>NaN</td>\n",
       "      <td>NaN</td>\n",
       "      <td>2018</td>\n",
       "      <td>04/06/2019 04:04:43 PM</td>\n",
       "      <td>NaN</td>\n",
       "      <td>NaN</td>\n",
       "      <td>NaN</td>\n",
       "    </tr>\n",
       "    <tr>\n",
       "      <th>1</th>\n",
       "      <td>11645836</td>\n",
       "      <td>JC212333</td>\n",
       "      <td>05/01/2016 12:25:00 AM</td>\n",
       "      <td>055XX S ROCKWELL ST</td>\n",
       "      <td>1153</td>\n",
       "      <td>DECEPTIVE PRACTICE</td>\n",
       "      <td>FINANCIAL IDENTITY THEFT OVER $ 300</td>\n",
       "      <td>NaN</td>\n",
       "      <td>False</td>\n",
       "      <td>False</td>\n",
       "      <td>...</td>\n",
       "      <td>15.0</td>\n",
       "      <td>63.0</td>\n",
       "      <td>11</td>\n",
       "      <td>NaN</td>\n",
       "      <td>NaN</td>\n",
       "      <td>2016</td>\n",
       "      <td>04/06/2019 04:04:43 PM</td>\n",
       "      <td>NaN</td>\n",
       "      <td>NaN</td>\n",
       "      <td>NaN</td>\n",
       "    </tr>\n",
       "  </tbody>\n",
       "</table>\n",
       "<p>2 rows × 22 columns</p>\n",
       "</div>"
      ],
      "text/plain": [
       "         ID Case Number                    Date                  Block  IUCR  \\\n",
       "0  11646166    JC213529  09/01/2018 12:01:00 AM  082XX S INGLESIDE AVE  0810   \n",
       "1  11645836    JC212333  05/01/2016 12:25:00 AM    055XX S ROCKWELL ST  1153   \n",
       "\n",
       "         Primary Type                          Description  \\\n",
       "0               THEFT                            OVER $500   \n",
       "1  DECEPTIVE PRACTICE  FINANCIAL IDENTITY THEFT OVER $ 300   \n",
       "\n",
       "  Location Description  Arrest  Domestic  ...  Ward  Community Area  FBI Code  \\\n",
       "0            RESIDENCE   False      True  ...   8.0            44.0        06   \n",
       "1                  NaN   False     False  ...  15.0            63.0        11   \n",
       "\n",
       "   X Coordinate Y Coordinate  Year              Updated On  Latitude  \\\n",
       "0           NaN          NaN  2018  04/06/2019 04:04:43 PM       NaN   \n",
       "1           NaN          NaN  2016  04/06/2019 04:04:43 PM       NaN   \n",
       "\n",
       "  Longitude  Location  \n",
       "0       NaN       NaN  \n",
       "1       NaN       NaN  \n",
       "\n",
       "[2 rows x 22 columns]"
      ]
     },
     "execution_count": 91,
     "metadata": {},
     "output_type": "execute_result"
    }
   ],
   "source": [
    "crime_df.head(2)"
   ]
  },
  {
   "cell_type": "markdown",
   "metadata": {},
   "source": [
    "##### STEP 1: DEFINE THE HYPOTHESIS\n",
    "\n",
    "- Null Hypothesis (H0): There is no significant difference in crime rates between the two wards.\n",
    "- Alternative Hypothesis (H1): There is a significant difference in crime rates between the two wards."
   ]
  },
  {
   "cell_type": "markdown",
   "metadata": {},
   "source": [
    "##### STEP 2: SELECT THE DATA"
   ]
  },
  {
   "cell_type": "code",
   "execution_count": 92,
   "metadata": {},
   "outputs": [
    {
     "name": "stdout",
     "output_type": "stream",
     "text": [
      "[ 8. 15.  5. 31. 23.  4.  3. 30. 33.  6. 46. 28. 24. 21. 36. 29. 18. 20.\n",
      " 42. 44. 13. 12. 32.  2. 39. nan 10. 40. 14. 48. 17. 37. 47. 34. 27.  7.\n",
      " 16.  9.  1. 41. 50. 43. 49. 35. 19. 26. 38. 45. 11. 25. 22.]\n"
     ]
    }
   ],
   "source": [
    "### A nan was discovered ###\n",
    "\n",
    "# Get the list of all unique wards\n",
    "all_wards = crime_df['Ward'].unique()\n",
    "\n",
    "# Print the list of all wards\n",
    "print(all_wards)"
   ]
  },
  {
   "cell_type": "code",
   "execution_count": 93,
   "metadata": {},
   "outputs": [
    {
     "name": "stdout",
     "output_type": "stream",
     "text": [
      "50 Wards Identified\n",
      "\n",
      "Top 10 Wards By Crime:\n",
      "Ward 1.0: 138141\n",
      "Ward 2.0: 255928\n",
      "Ward 3.0: 220325\n",
      "Ward 4.0: 145079\n",
      "Ward 5.0: 173287\n",
      "Ward 6.0: 239581\n",
      "Ward 7.0: 196558\n",
      "Ward 8.0: 199961\n",
      "Ward 9.0: 187712\n",
      "Ward 10.0: 123265\n"
     ]
    }
   ],
   "source": [
    "# Remove rows with NaN values\n",
    "crime_df.dropna(subset=['Ward'], inplace=True)\n",
    "\n",
    "# Sorted Wards\n",
    "all_wards = sorted(crime_df['Ward'].unique())\n",
    "\n",
    "# Get a count of all the wards\n",
    "ward_count = len(all_wards)\n",
    "\n",
    "# Print the statement with the count\n",
    "print(f\"{ward_count} Wards Identified\")\n",
    "\n",
    "# Print the top 10 unique wards\n",
    "print('\\nTop 10 Wards By Crime:')\n",
    "for ward in all_wards[:10]:\n",
    "    count = (crime_df['Ward'] == ward).sum()\n",
    "    print(f\"Ward {ward}: {count}\")"
   ]
  },
  {
   "cell_type": "code",
   "execution_count": 94,
   "metadata": {},
   "outputs": [
    {
     "name": "stdout",
     "output_type": "stream",
     "text": [
      "+--------+------------------------+--------+------------------------+\n",
      "| Ward 1 | Total Crimes in Ward 1 | Ward 2 | Total Crimes in Ward 2 |\n",
      "+--------+------------------------+--------+------------------------+\n",
      "|  7.0   |        196558.0        |  10.0  |        123265.0        |\n",
      "|  1.0   |        138141.0        |  10.0  |        123265.0        |\n",
      "|  4.0   |        145079.0        |  5.0   |        173287.0        |\n",
      "|  4.0   |        145079.0        |  10.0  |        123265.0        |\n",
      "|  5.0   |        173287.0        |  10.0  |        123265.0        |\n",
      "|  2.0   |        255928.0        |  5.0   |        173287.0        |\n",
      "|  1.0   |        138141.0        |  4.0   |        145079.0        |\n",
      "|  2.0   |        255928.0        |  10.0  |        123265.0        |\n",
      "|  8.0   |        199961.0        |  10.0  |        123265.0        |\n",
      "|  1.0   |        138141.0        |  5.0   |        173287.0        |\n",
      "|  1.0   |        138141.0        |  9.0   |        187712.0        |\n",
      "|  6.0   |        239581.0        |  8.0   |        199961.0        |\n",
      "|  3.0   |        220325.0        |  6.0   |        239581.0        |\n",
      "|  7.0   |        196558.0        |  9.0   |        187712.0        |\n",
      "|  5.0   |        173287.0        |  7.0   |        196558.0        |\n",
      "|  2.0   |        255928.0        |  8.0   |        199961.0        |\n",
      "|  1.0   |        138141.0        |  2.0   |        255928.0        |\n",
      "|  4.0   |        145079.0        |  8.0   |        199961.0        |\n",
      "|  3.0   |        220325.0        |  4.0   |        145079.0        |\n",
      "|  1.0   |        138141.0        |  8.0   |        199961.0        |\n",
      "|  5.0   |        173287.0        |  9.0   |        187712.0        |\n",
      "|  2.0   |        255928.0        |  9.0   |        187712.0        |\n",
      "|  3.0   |        220325.0        |  5.0   |        173287.0        |\n",
      "|  4.0   |        145079.0        |  6.0   |        239581.0        |\n",
      "|  3.0   |        220325.0        |  7.0   |        196558.0        |\n",
      "+--------+------------------------+--------+------------------------+\n"
     ]
    }
   ],
   "source": [
    "# Store the results of two ward combinations\n",
    "results = []\n",
    "\n",
    "# Iterate through the randomly selected combinations and calculate the total crimes count for each ward\n",
    "for combination in random_combinations:\n",
    "    ward1, ward2 = combination\n",
    "    total_crimes_ward1 = (crime_df['Ward'] == ward1).sum()\n",
    "    total_crimes_ward2 = (crime_df['Ward'] == ward2).sum()\n",
    "    results.append([ward1, total_crimes_ward1, ward2, total_crimes_ward2])\n",
    "\n",
    "\n",
    "columns = ['Ward 1', 'Total Crimes in Ward 1', 'Ward 2', 'Total Crimes in Ward 2']\n",
    "table_df = pd.DataFrame(results, columns=columns)\n",
    "\n",
    "# Display the table\n",
    "print(tabulate(table_df, headers='keys', tablefmt='pretty', showindex=False))"
   ]
  },
  {
   "cell_type": "code",
   "execution_count": 101,
   "metadata": {},
   "outputs": [
    {
     "name": "stdout",
     "output_type": "stream",
     "text": [
      "Ward 1 Total Crimes: 138141\n",
      "Ward 2 Total Crimes: 255928\n"
     ]
    }
   ],
   "source": [
    "# Calculate the total crimes for Ward 1 and Ward 2\n",
    "ward1_total_crimes = (crime_df['Ward'] == 1.0).sum()\n",
    "ward2_total_crimes = (crime_df['Ward'] == 2.0).sum()\n",
    "\n",
    "# Print the results\n",
    "print(\"Ward 1 Total Crimes:\", ward1_total_crimes)\n",
    "print(\"Ward 2 Total Crimes:\", ward2_total_crimes)\n"
   ]
  },
  {
   "cell_type": "code",
   "execution_count": 115,
   "metadata": {},
   "outputs": [
    {
     "name": "stdout",
     "output_type": "stream",
     "text": [
      "    Year  Total Crimes\n",
      "0   2001          4301\n",
      "1   2002        353695\n",
      "2   2003        475964\n",
      "3   2004        469399\n",
      "4   2005        453771\n",
      "5   2006        448175\n",
      "6   2007        437082\n",
      "7   2008        427165\n",
      "8   2009        392822\n",
      "9   2010        370487\n",
      "10  2011        351961\n",
      "11  2012        336266\n",
      "12  2013        307475\n",
      "13  2014        275743\n",
      "14  2015        264773\n",
      "15  2016        269808\n",
      "16  2017        269091\n",
      "17  2018        268807\n",
      "18  2019        261275\n",
      "19  2020        212161\n",
      "20  2021        208722\n",
      "21  2022        238702\n",
      "22  2023        134315\n",
      "    Year  Arrest_Count\n",
      "0   2001           766\n",
      "1   2002         98639\n",
      "2   2003        141575\n",
      "3   2004        144688\n",
      "4   2005        140923\n",
      "5   2006        135418\n",
      "6   2007        131878\n",
      "7   2008        110014\n",
      "8   2009        110824\n",
      "9   2010        100540\n",
      "10  2011         96285\n",
      "11  2012         90659\n",
      "12  2013         86537\n",
      "13  2014         79631\n",
      "14  2015         70039\n",
      "15  2016         53027\n",
      "16  2017         52646\n",
      "17  2018         53866\n",
      "18  2019         56212\n",
      "19  2020         34096\n",
      "20  2021         26337\n",
      "21  2022         27699\n",
      "22  2023         15803\n",
      "    Year  Domestic_Crime_Count\n",
      "0   2001                   353\n",
      "1   2002                 44042\n",
      "2   2003                 53842\n",
      "3   2004                 54497\n",
      "4   2005                 50761\n",
      "5   2006                 51352\n",
      "6   2007                 50989\n",
      "7   2008                 50517\n",
      "8   2009                 53057\n",
      "9   2010                 51937\n",
      "10  2011                 49593\n",
      "11  2012                 48689\n",
      "12  2013                 45056\n",
      "13  2014                 40637\n",
      "14  2015                 41994\n",
      "15  2016                 43255\n",
      "16  2017                 42912\n",
      "17  2018                 44095\n",
      "18  2019                 43341\n",
      "19  2020                 39980\n",
      "20  2021                 45011\n",
      "21  2022                 42521\n",
      "22  2023                 23276\n"
     ]
    }
   ],
   "source": [
    "crimes_by_year = crime_df.groupby('Year').size().reset_index(name='Total Crimes')\n",
    "arrests_by_year = crime_df[crime_df['Arrest'] == True].groupby('Year').size().reset_index(name='Arrest_Count')\n",
    "domestic_crimes_by_year = crime_df[crime_df['Domestic'] == True].groupby('Year').size().reset_index(name='Domestic_Crime_Count')\n",
    "\n",
    "\n",
    "# Print the resulting DataFrame\n",
    "print(crimes_by_year)\n",
    "print(arrests_by_year)\n",
    "print(domestic_crimes_by_year)"
   ]
  },
  {
   "cell_type": "code",
   "execution_count": 116,
   "metadata": {},
   "outputs": [
    {
     "name": "stdout",
     "output_type": "stream",
     "text": [
      "      Total Crimes  Total Arrests Percent Arrested\n",
      "Year                                              \n",
      "2001          4301            766              18%\n",
      "2002        353695          98639              28%\n",
      "2003        475964         141575              30%\n",
      "2004        469399         144688              31%\n",
      "2005        453771         140923              31%\n",
      "2006        448175         135418              30%\n",
      "2007        437082         131878              30%\n",
      "2008        427165         110014              26%\n",
      "2009        392822         110824              28%\n",
      "2010        370487         100540              27%\n",
      "2011        351961          96285              27%\n",
      "2012        336266          90659              27%\n",
      "2013        307475          86537              28%\n",
      "2014        275743          79631              29%\n",
      "2015        264773          70039              26%\n",
      "2016        269808          53027              20%\n",
      "2017        269091          52646              20%\n",
      "2018        268807          53866              20%\n",
      "2019        261275          56212              22%\n",
      "2020        212161          34096              16%\n",
      "2021        208722          26337              13%\n",
      "2022        238702          27699              12%\n",
      "2023        134315          15803              12%\n"
     ]
    }
   ],
   "source": [
    "# print(crimes_by_year)\n",
    "# print(arrests_by_year)\n",
    "\n",
    "# Merge the \"crimes_by_year\" and \"arrests_by_year\" DataFrames on \"Year\"\n",
    "crimes_vs_arrests = crimes_by_year.merge(arrests_by_year, on='Year', suffixes=('_crimes', '_arrests'))\n",
    "\n",
    "# Calculate the percentage of arrests based on total crimes for each year\n",
    "crimes_vs_arrests['Arrest_Percentage'] = crimes_vs_arrests['Arrest_Count'] / crimes_vs_arrests['Total Crimes'] * 100\n",
    "\n",
    "# Round the percentage to a whole number. Don't want decimals, too messy\n",
    "crimes_vs_arrests['Arrest_Percentage'] = crimes_vs_arrests['Arrest_Percentage'].round(0)\n",
    "\n",
    "# Formatted to have % used\n",
    "crimes_vs_arrests['Arrest_Percentage'] = crimes_vs_arrests['Arrest_Percentage'].apply(lambda x: f\"{x:.0f}%\")\n",
    "\n",
    "# Changed index\n",
    "crimes_vs_arrests = crimes_vs_arrests.set_index('Year')\n",
    "\n",
    "# Rename the columns for clarity\n",
    "crimes_vs_arrests = crimes_vs_arrests.rename(columns={\n",
    "    'Total Crimes': 'Total Crimes',\n",
    "    'Arrest_Count': 'Total Arrests',\n",
    "    'Arrest_Percentage': 'Percent Arrested'\n",
    "})\n",
    "\n",
    "# Print the resulting DataFrame\n",
    "print(crimes_vs_arrests)"
   ]
  },
  {
   "cell_type": "code",
   "execution_count": 152,
   "metadata": {},
   "outputs": [
    {
     "data": {
      "image/png": "[encoded data removed]",
      "text/plain": [
       "<Figure size 1200x600 with 1 Axes>"
      ]
     },
     "metadata": {},
     "output_type": "display_data"
    }
   ],
   "source": [
    "import pandas as pd\n",
    "import matplotlib.pyplot as plt\n",
    "import seaborn as sns\n",
    "from matplotlib.ticker import MaxNLocator\n",
    "\n",
    "# Assuming you have already created the DataFrame \"crimes_vs_arrests\" using the provided code\n",
    "\n",
    "# Set the style for the plot\n",
    "sns.set(style=\"whitegrid\")\n",
    "plt.figure(figsize=(12, 6))\n",
    "\n",
    "# Plot the lines with appropriate style and labels\n",
    "sns.lineplot(data=crimes_vs_arrests['Total Crimes'], marker='o', color='b', label='Total Crimes', linewidth=2)\n",
    "sns.lineplot(data=crimes_vs_arrests['Total Arrests'], marker='o', color='g', label='Total Arrests', linestyle='dashed', linewidth=2)\n",
    "\n",
    "# Customize the plot\n",
    "plt.xlabel('Year', fontsize=14)\n",
    "plt.ylabel('Count', fontsize=14)\n",
    "plt.title('Total Crimes and Arrests 2002-2023', fontsize=16)\n",
    "plt.xticks(crimes_vs_arrests.index, rotation=45, fontsize=12, ha='right')\n",
    "\n",
    "# Set the x-axis limits to start at 2002\n",
    "plt.xlim(2002, max(crimes_vs_arrests.index))\n",
    "\n",
    "# Set the y-axis ticks to be more detailed\n",
    "ax = plt.gca()\n",
    "ax.yaxis.set_major_locator(MaxNLocator(integer=True))\n",
    "\n",
    "plt.yticks(fontsize=12)\n",
    "plt.grid(True)\n",
    "\n",
    "# Set the legend\n",
    "plt.legend(fontsize=12)\n",
    "\n",
    "# Show the plot\n",
    "plt.tight_layout()\n",
    "plt.show()\n",
    "\n"
   ]
  },
  {
   "cell_type": "code",
   "execution_count": 119,
   "metadata": {},
   "outputs": [
    {
     "name": "stdout",
     "output_type": "stream",
     "text": [
      "18%\n",
      "16%\n"
     ]
    }
   ],
   "source": [
    "# Select the data for the years 2001 and 2020\n",
    "year1_data = crimes_vs_arrests.loc[2001, 'Percent Arrested']\n",
    "year2_data = crimes_vs_arrests.loc[2020, 'Percent Arrested']\n",
    "print(year1_data)\n",
    "print(year2_data)\n",
    "\n"
   ]
  }
 ],
 "metadata": {
  "kernelspec": {
   "display_name": "base",
   "language": "python",
   "name": "python3"
  },
  "language_info": {
   "codemirror_mode": {
    "name": "ipython",
    "version": 3
   },
   "file_extension": ".py",
   "mimetype": "text/x-python",
   "name": "python",
   "nbconvert_exporter": "python",
   "pygments_lexer": "ipython3",
   "version": "3.10.9"
  },
  "orig_nbformat": 4
 },
 "nbformat": 4,
 "nbformat_minor": 2
}
